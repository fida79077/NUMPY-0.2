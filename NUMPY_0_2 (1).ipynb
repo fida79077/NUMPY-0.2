{
  "nbformat": 4,
  "nbformat_minor": 0,
  "metadata": {
    "colab": {
      "provenance": []
    },
    "kernelspec": {
      "name": "python3",
      "display_name": "Python 3"
    },
    "language_info": {
      "name": "python"
    }
  },
  "cells": [
    {
      "cell_type": "markdown",
      "source": [
        "1 DIMENSIONAL SUBSETTING"
      ],
      "metadata": {
        "id": "aow8eoFLkLPa"
      }
    },
    {
      "cell_type": "code",
      "source": [
        "import numpy as np\n",
        "\n",
        "a = np.array([1,2,'3',4,7])\n",
        "\n",
        "print(a[2])"
      ],
      "metadata": {
        "colab": {
          "base_uri": "https://localhost:8080/"
        },
        "id": "QSxBY6PqkRL0",
        "outputId": "b686653c-3ea5-480d-d38a-88484d6dc677"
      },
      "execution_count": null,
      "outputs": [
        {
          "output_type": "stream",
          "name": "stdout",
          "text": [
            "3\n"
          ]
        }
      ]
    },
    {
      "cell_type": "markdown",
      "source": [
        "2 DIMENSIONAL SUBSETTING"
      ],
      "metadata": {
        "id": "cuNSqS_2kdaL"
      }
    },
    {
      "cell_type": "code",
      "source": [
        "import numpy as np\n",
        "\n",
        "a = np.array([[1,2,'3',4,7],[14,32,'30',40,22]])\n",
        "\n",
        "print(a[1,1])"
      ],
      "metadata": {
        "colab": {
          "base_uri": "https://localhost:8080/"
        },
        "id": "g6HFj52ykcDn",
        "outputId": "53d89d43-5373-4d88-b424-d6755b4ee805"
      },
      "execution_count": null,
      "outputs": [
        {
          "output_type": "stream",
          "name": "stdout",
          "text": [
            "32\n"
          ]
        }
      ]
    },
    {
      "cell_type": "code",
      "source": [
        "import numpy as np\n",
        "\n",
        "a = np.array([[1,3,4,5,5],[12,22,45,77,66]])\n",
        "\n",
        "print(a[1,2])"
      ],
      "metadata": {
        "colab": {
          "base_uri": "https://localhost:8080/"
        },
        "id": "4QHZgL3skz0v",
        "outputId": "1344a2ae-6a8b-4b56-dd7e-ab0b9c4aeed5"
      },
      "execution_count": null,
      "outputs": [
        {
          "output_type": "stream",
          "name": "stdout",
          "text": [
            "45\n"
          ]
        }
      ]
    },
    {
      "cell_type": "code",
      "source": [
        "import numpy as np\n",
        "\n",
        "a = np.array([[1,3,4,5,5],[12,22,45,77,66]])\n",
        "\n",
        "print(a[1,3])"
      ],
      "metadata": {
        "colab": {
          "base_uri": "https://localhost:8080/"
        },
        "id": "Le366rZOlJJF",
        "outputId": "6fd3c229-952d-49c4-fcdd-f50afaffe3a7"
      },
      "execution_count": null,
      "outputs": [
        {
          "output_type": "stream",
          "name": "stdout",
          "text": [
            "77\n"
          ]
        }
      ]
    },
    {
      "cell_type": "code",
      "source": [
        "import numpy as np\n",
        "\n",
        "a = np.array([[1,3,4,5,5],[12,22,45,77,66]])\n",
        "\n",
        "print(a[0,3])"
      ],
      "metadata": {
        "colab": {
          "base_uri": "https://localhost:8080/"
        },
        "id": "5DFwCzPYlV9c",
        "outputId": "009ce48c-2289-4419-963a-dc73c3564724"
      },
      "execution_count": null,
      "outputs": [
        {
          "output_type": "stream",
          "name": "stdout",
          "text": [
            "5\n"
          ]
        }
      ]
    },
    {
      "cell_type": "markdown",
      "source": [
        "3D SUBSETTING"
      ],
      "metadata": {
        "id": "PraxiT3elabC"
      }
    },
    {
      "cell_type": "code",
      "source": [
        "import numpy as np\n",
        "\n",
        "a = np.array([[[1,3,'4',5,5],[12,22,'45',77,66]],[[12,33,'55',66,77],[1,22,'66',1007,99]]])\n",
        "\n",
        "print(a[0,1,2])"
      ],
      "metadata": {
        "colab": {
          "base_uri": "https://localhost:8080/"
        },
        "id": "llzIwHWNlZZ1",
        "outputId": "3e834103-02c4-4054-a099-7d4a56d31478"
      },
      "execution_count": null,
      "outputs": [
        {
          "output_type": "stream",
          "name": "stdout",
          "text": [
            "45\n"
          ]
        }
      ]
    },
    {
      "cell_type": "markdown",
      "source": [
        "1D SLICING"
      ],
      "metadata": {
        "id": "QFkeTsjKpPWC"
      }
    },
    {
      "cell_type": "code",
      "source": [
        "import numpy as np\n",
        "\n",
        "a = np.array([1,3,'4',5,5])\n",
        "\n",
        "print(a[1:4])"
      ],
      "metadata": {
        "colab": {
          "base_uri": "https://localhost:8080/"
        },
        "id": "fW9IVPcrlzef",
        "outputId": "eadc93c7-8b97-4b4b-f23f-8285cfab75c0"
      },
      "execution_count": null,
      "outputs": [
        {
          "output_type": "stream",
          "name": "stdout",
          "text": [
            "['3' '4' '5']\n"
          ]
        }
      ]
    },
    {
      "cell_type": "code",
      "source": [
        "import numpy as np\n",
        "\n",
        "a = np.array([1,3,4,5,5])\n",
        "\n",
        "print(a[1:])"
      ],
      "metadata": {
        "colab": {
          "base_uri": "https://localhost:8080/"
        },
        "id": "DkgNuMAipZaz",
        "outputId": "b3fc48f3-ed21-4a09-e1d7-63d1033f5394"
      },
      "execution_count": null,
      "outputs": [
        {
          "output_type": "stream",
          "name": "stdout",
          "text": [
            "[3 4 5 5]\n"
          ]
        }
      ]
    },
    {
      "cell_type": "code",
      "source": [
        "import numpy as np\n",
        "\n",
        "a = np.array([1,3,4,5,7])\n",
        "\n",
        "print(a[:4])"
      ],
      "metadata": {
        "colab": {
          "base_uri": "https://localhost:8080/"
        },
        "id": "csjQ5oSLpilX",
        "outputId": "eb05591b-4d95-4aa5-e48e-8701907641ed"
      },
      "execution_count": null,
      "outputs": [
        {
          "output_type": "stream",
          "name": "stdout",
          "text": [
            "[1 3 4 5]\n"
          ]
        }
      ]
    },
    {
      "cell_type": "markdown",
      "source": [
        "2D SLICING"
      ],
      "metadata": {
        "id": "0BsmErJkp2Um"
      }
    },
    {
      "cell_type": "code",
      "source": [
        "import numpy as np\n",
        "\n",
        "a = np.array([[1,3,4,5,5],[12,22,45,77,66]])\n",
        "\n",
        "print(a.ndim)\n",
        "\n",
        "#print(a)\n",
        "print(a[0:2,2:5])     #0th and 1st row and 2nd 3rd 4th columns\n",
        "\n",
        "print(a[ : ,1:3])     #0th and 1st row and 1st and 2nd columns"
      ],
      "metadata": {
        "colab": {
          "base_uri": "https://localhost:8080/"
        },
        "id": "TFo2vFNspqMd",
        "outputId": "e9850a86-7045-44fd-93ee-fa959c99ab20"
      },
      "execution_count": null,
      "outputs": [
        {
          "output_type": "stream",
          "name": "stdout",
          "text": [
            "2\n",
            "[[ 4  5  5]\n",
            " [45 77 66]]\n",
            "[[ 3  4]\n",
            " [22 45]]\n"
          ]
        }
      ]
    },
    {
      "cell_type": "markdown",
      "source": [
        "3D SLICING"
      ],
      "metadata": {
        "id": "n5DVCBPiqiLm"
      }
    },
    {
      "cell_type": "code",
      "source": [
        "import numpy as np\n",
        "\n",
        "a = np.array([[[1,3,4,5,5],[12,22,45,77,66]],[[1,14,25,17,88],[33,44,55,66,77]]])\n",
        "\n",
        "print(a[: ,1,2:5])"
      ],
      "metadata": {
        "colab": {
          "base_uri": "https://localhost:8080/"
        },
        "id": "kJ1OrVtiqdI6",
        "outputId": "3fc58417-cac3-4da3-c60d-fd14648b8d5f"
      },
      "execution_count": null,
      "outputs": [
        {
          "output_type": "stream",
          "name": "stdout",
          "text": [
            "[[45 77 66]\n",
            " [55 66 77]]\n"
          ]
        }
      ]
    },
    {
      "cell_type": "code",
      "source": [],
      "metadata": {
        "id": "ZA4Denb-q67k"
      },
      "execution_count": null,
      "outputs": []
    },
    {
      "cell_type": "code",
      "source": [
        "import numpy as np\n",
        "\n",
        "a = np.array([[[1,3,4,5,5],[12,22,45,77,66]],[[1,14,25,17,88],[33,44,55,66,77]]])\n",
        "\n",
        "print(a[: , : ,1:4])"
      ],
      "metadata": {
        "colab": {
          "base_uri": "https://localhost:8080/"
        },
        "outputId": "33718e33-f82c-4bc7-b120-377feb3bdb88",
        "id": "OpmCXzPnrAO6"
      },
      "execution_count": null,
      "outputs": [
        {
          "output_type": "stream",
          "name": "stdout",
          "text": [
            "[[[ 3  4  5]\n",
            "  [22 45 77]]\n",
            "\n",
            " [[14 25 17]\n",
            "  [44 55 66]]]\n"
          ]
        }
      ]
    },
    {
      "cell_type": "markdown",
      "source": [
        "BOOLEAN INDEXING"
      ],
      "metadata": {
        "id": "UVr_dSHrrxWs"
      }
    },
    {
      "cell_type": "code",
      "source": [
        "import numpy as np\n",
        "\n",
        "a = np.array([[[1,3,4,5,5],[12,22,45,77,66]],[[1,14,25,17,88],[33,44,55,66,77]]])\n",
        "\n",
        "print(a)\n",
        "print(a.ndim)\n",
        "print(a.shape)"
      ],
      "metadata": {
        "colab": {
          "base_uri": "https://localhost:8080/"
        },
        "outputId": "7a18fb73-94ca-4594-d761-729488e54ba9",
        "id": "icVk2Wj4r2To"
      },
      "execution_count": null,
      "outputs": [
        {
          "output_type": "stream",
          "name": "stdout",
          "text": [
            "[[[ 1  3  4  5  5]\n",
            "  [12 22 45 77 66]]\n",
            "\n",
            " [[ 1 14 25 17 88]\n",
            "  [33 44 55 66 77]]]\n",
            "3\n",
            "(2, 2, 5)\n"
          ]
        }
      ]
    },
    {
      "cell_type": "code",
      "source": [
        "b = a>10\n",
        "\n",
        "print(b)"
      ],
      "metadata": {
        "colab": {
          "base_uri": "https://localhost:8080/"
        },
        "id": "lgcJIIcpr5N5",
        "outputId": "591c8895-f240-41e5-f6c5-37ec1bb535cb"
      },
      "execution_count": null,
      "outputs": [
        {
          "output_type": "stream",
          "name": "stdout",
          "text": [
            "[[[False False False False False]\n",
            "  [ True  True  True  True  True]]\n",
            "\n",
            " [[False  True  True  True  True]\n",
            "  [ True  True  True  True  True]]]\n"
          ]
        }
      ]
    },
    {
      "cell_type": "code",
      "source": [
        "b = a<10\n",
        "\n",
        "print(b)"
      ],
      "metadata": {
        "colab": {
          "base_uri": "https://localhost:8080/"
        },
        "id": "OEfWUUx2sEtI",
        "outputId": "52210126-6fb6-4540-c82c-df5a3c1dfdcc"
      },
      "execution_count": null,
      "outputs": [
        {
          "output_type": "stream",
          "name": "stdout",
          "text": [
            "[[[ True  True  True  True  True]\n",
            "  [False False False False False]]\n",
            "\n",
            " [[ True False False False False]\n",
            "  [False False False False False]]]\n"
          ]
        }
      ]
    },
    {
      "cell_type": "code",
      "source": [],
      "metadata": {
        "id": "Ha3ex68BsK9W"
      },
      "execution_count": null,
      "outputs": []
    }
  ]
}